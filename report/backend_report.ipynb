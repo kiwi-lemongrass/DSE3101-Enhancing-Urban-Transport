{
 "cells": [
  {
   "cell_type": "markdown",
   "metadata": {},
   "source": [
    "# Analysing Connectivity of Public Transport in Singapore\n",
    "**Bernice Ong Hwee Yee, Luo Xinming**"
   ]
  },
  {
   "cell_type": "markdown",
   "metadata": {},
   "source": [
    "The goal of the backend analysis is to construct a pipeline that calculates the **connectivity score** for each of the 55 planning areas in Singapore. Connectivity is broken down into: \n",
    "1. **Availability**\n",
    "- Number of train stations in the region\n",
    "- Number of bus stops in the region\n",
    "- Number of bus routes in the region\n",
    "- Average frequency of buses (min) in each region (Frequency of Dispatch for Bus Services in the region)\n",
    " \n",
    "2. **Accessibility**\n",
    "- Differences in Travel Time (min) between taking Public and Private Transport (eg car) to:\n",
    "  - CBD (Business)\n",
    "  -  ION Orchard (Leisure)\n",
    "  -  SGH (Healthcare)"
   ]
  },
  {
   "cell_type": "markdown",
   "metadata": {},
   "source": [
    "## Data Collection\n"
   ]
  },
  {
   "cell_type": "markdown",
   "metadata": {},
   "source": [
    "### Transport Services\n",
    "We made API calls to [Singapore Land Transport Authority (LTA) DataMall](https://datamall.lta.gov.sg/content/datamall/en/dynamic-data.html) for data on:\n",
    "- Bus Services: `../data/busservices.csv`\n",
    "- Bus Routes: `../data/busroutes.csv`\n",
    "- Bus Stops: `../data/busstops.csv`\n",
    "- Passenger Volume by Bus Stops: `../data/pv.csv`\n",
    "\n",
    "We downloaded the shapefile from LTA DataMall for data on:\n",
    "- Train Stations: `../data/TrainStation_Feb2023/RapidTransitSystemStation.shp`\n",
    "\n",
    "Note: `LTA_KEY` refers to your personal API Key from LTA DataMall."
   ]
  },
  {
   "cell_type": "markdown",
   "metadata": {},
   "source": [
    "#### Bus Services, Bus Routes, Bus Stops\n",
    "We create a function for API calls to Bus Services, Bus Routes and Bus Stops where \n",
    "- `service_type`: refers to a string denoting Bus Services, Bus Routes or Bus Stops, to be included in the request URL\n",
    "- `skip_values`: refers to a list containing number of records to skip for each request and depends on how large the dataset is as there is a limit of 500 records per request. "
   ]
  },
  {
   "cell_type": "code",
   "execution_count": null,
   "metadata": {},
   "outputs": [],
   "source": [
    "def get_pt_data(service_type, skip_values):\n",
    "    base_url = \"http://datamall2.mytransport.sg/ltaodataservice\"\n",
    "    \n",
    "    service = []\n",
    "\n",
    "    for skip in skip_values:\n",
    "        endpoint_url = f\"/{service_type}?$skip={skip}\"\n",
    "        resource_url = base_url + endpoint_url\n",
    "        res = requests.get(resource_url, headers={\"AccountKey\": \"LTA_KEY\", \"accept\": \"application/json\"})\n",
    "        res_list = res.json()\n",
    "        df = pd.DataFrame(res_list['value'])\n",
    "        service.append(df)\n",
    "\n",
    "    service_df = pd.concat(service, ignore_index=True)\n",
    "    return service_df"
   ]
  },
  {
   "cell_type": "markdown",
   "metadata": {},
   "source": [
    "#### Passenger Volume by Bus Stops\n",
    "This dataset had to be collected separately as additional parameters were required and the request returns a link to download the csv file instead. "
   ]
  },
  {
   "cell_type": "code",
   "execution_count": null,
   "metadata": {},
   "outputs": [],
   "source": [
    "# Passenger volume: produces link to download csv\n",
    "base_url = \"http://datamall2.mytransport.sg/ltaodataservice\"\n",
    "endpoint = \"/PV/Bus\"\n",
    "resource_url = base_url + endpoint\n",
    "last_3_months = ['202402', '202401', '202312']\n",
    "for month in last_3_months:\n",
    "    query_params = {'Date': month}\n",
    "    # Request data from the server\n",
    "    res = requests.get(resource_url, headers={\"AccountKey\": \"LTA_KEY\", \"accept\": \"application/json\"}, params=query_params)\n",
    "    res_list = res.json()\n",
    "    print(res_list['value'])"
   ]
  },
  {
   "cell_type": "markdown",
   "metadata": {},
   "source": [
    "### Planning Areas\n",
    "We made API calls to [OneMap API](https://www.onemap.gov.sg/apidocs/) to map each bus stop and train station to their respective planning areas using the location coordinates. \n",
    "\n",
    "We also downloaded the MasterPlan 2019 geojson file directly from [Data.gov.sg](https://beta.data.gov.sg/collections/2104/datasets/d_4765db0e87b9c86336792efe8a1f7a66/view) for the plotting of the boundaries on a heatmap.\n"
   ]
  },
  {
   "cell_type": "markdown",
   "metadata": {},
   "source": [
    "#### From Data.gov.sg\n",
    "We extract the Planning Area names from `Description` using regular expressions as it is rendered in HTML format. \n",
    "\n",
    "The final file to be used: `../data/planning_area.geojson`"
   ]
  },
  {
   "cell_type": "code",
   "execution_count": null,
   "metadata": {},
   "outputs": [],
   "source": [
    "import geopandas as gpd\n",
    "import re\n",
    "\n",
    "planning_area = gpd.read_file('../data/MasterPlan2019PlanningAreaBoundaryNoSea.geojson')\n",
    "\n",
    "pattern = r'<th>PLN_AREA_N</th>\\s*<td>(.*?)</td>'\n",
    "\n",
    "names = []\n",
    "# Iterate through each row and apply regex pattern\n",
    "for index, row in planning_area.iterrows():\n",
    "    html_data = row['Description']\n",
    "    result = re.search(pattern, html_data)\n",
    "    if result:\n",
    "        #print(result.group(1))\n",
    "        names.append(result.group(1))\n",
    "    else:\n",
    "        print(\"Pattern not found.\")\n",
    "\n",
    "planning_area['planning_area'] = names\n",
    "planning_area = planning_area[['planning_area', 'geometry']]\n",
    "# save locally\n",
    "planning_area.to_file('../data/planning_area.geojson', driver='GeoJSON')"
   ]
  },
  {
   "cell_type": "markdown",
   "metadata": {},
   "source": [
    "#### Extract Planning Area from OneMap API to join with Bus Stops and Train Stations\n",
    "The data can be found in: \n",
    "- Bus Stops: `../data/busstops_with_planningarea.csv`\n",
    "- Train Stations: `../data/trainstations_with_planningarea.csv`\n",
    "\n",
    "We create a function to loop through the data for Bus Stops and Train Stations with their coordinates to map to their planning areas where\n",
    "- `pt_data`: refers to the dataframe for each public transport type, e.g. bus stops or train stations.\n",
    "\n",
    "Notes: \n",
    "- The `token` specified is your token from OneMap API.\n",
    "- The exact `query_string` required may change, refer to the OneMap API website for more information. "
   ]
  },
  {
   "cell_type": "code",
   "execution_count": null,
   "metadata": {},
   "outputs": [],
   "source": [
    "def get_planning_area(pt_data):\n",
    "    pt_data['planning_area'] = ''\n",
    "\n",
    "    domain = 'https://www.onemap.gov.sg/api/public/popapi/getPlanningarea?'\n",
    "    token = 'xxx'\n",
    "    headers = {\"Authorization\": token}\n",
    "    incl_lat = 'latitude='\n",
    "    incl_long = '&longitude='\n",
    "\n",
    "    for index,row in pt_data.iterrows():\n",
    "        \n",
    "        if index % 100 == 0:\n",
    "            print(index)\n",
    "        \n",
    "        # print(index)\n",
    "        \n",
    "        lat = str(row['Latitude'])\n",
    "        long = str(row['Longitude'])\n",
    "        \n",
    "        query_string = domain+incl_lat+lat+incl_long+long\n",
    "        # print(query_string)\n",
    "\n",
    "        try:\n",
    "            response = requests.request(\"GET\", query_string, headers=headers, timeout=15)\n",
    "            resp_list = response.json()\n",
    "            # print(resp_list[0]['pln_area_n'])\n",
    "\n",
    "            pt_data.loc[index, \"planning_area\"] = resp_list[0]['pln_area_n']\n",
    "            \n",
    "        except:\n",
    "            pt_data.loc[index, \"planning_area\"] = 'invalid'\n",
    "\n",
    "    return pt_data"
   ]
  },
  {
   "cell_type": "markdown",
   "metadata": {},
   "source": [
    "For train stations, we first convert the centroid coordinates in the shapefile to common latitude and longitude coordinates before running the loop to make API calls for the planning area of each train station.\n",
    "\n",
    "Note that you may need to swap the order in the `transform()` line in the future due to changes in the PyProj library.\n",
    "- Example: `lon, lat = transform(wgs84, svy21, svy21_x, svy21_y)`"
   ]
  },
  {
   "cell_type": "code",
   "execution_count": 17,
   "metadata": {},
   "outputs": [
    {
     "name": "stderr",
     "output_type": "stream",
     "text": [
      "/Users/bernice/Desktop/dse3101/DSE3101-Enhancing-Urban-Transport/.venv/lib/python3.12/site-packages/pyproj/crs/crs.py:141: FutureWarning: '+init=<authority>:<code>' syntax is deprecated. '<authority>:<code>' is the preferred initialization method. When making the change, be mindful of axis order changes: https://pyproj4.github.io/pyproj/stable/gotchas.html#axis-order-changes-in-proj-6\n",
      "  in_crs_string = _prepare_from_proj_string(in_crs_string)\n",
      "/Users/bernice/Desktop/dse3101/DSE3101-Enhancing-Urban-Transport/.venv/lib/python3.12/site-packages/pyproj/crs/crs.py:141: FutureWarning: '+init=<authority>:<code>' syntax is deprecated. '<authority>:<code>' is the preferred initialization method. When making the change, be mindful of axis order changes: https://pyproj4.github.io/pyproj/stable/gotchas.html#axis-order-changes-in-proj-6\n",
      "  in_crs_string = _prepare_from_proj_string(in_crs_string)\n",
      "/var/folders/bj/_7yt7z8554jdh1q6br17z9m00000gp/T/ipykernel_625/4280013559.py:22: FutureWarning: This function is deprecated. See: https://pyproj4.github.io/pyproj/stable/gotchas.html#upgrading-to-pyproj-2-from-pyproj-1\n",
      "  lon, lat = transform(svy21, wgs84, svy21_x, svy21_y)\n"
     ]
    },
    {
     "data": {
      "text/html": [
       "<div>\n",
       "<style scoped>\n",
       "    .dataframe tbody tr th:only-of-type {\n",
       "        vertical-align: middle;\n",
       "    }\n",
       "\n",
       "    .dataframe tbody tr th {\n",
       "        vertical-align: top;\n",
       "    }\n",
       "\n",
       "    .dataframe thead th {\n",
       "        text-align: right;\n",
       "    }\n",
       "</style>\n",
       "<table border=\"1\" class=\"dataframe\">\n",
       "  <thead>\n",
       "    <tr style=\"text-align: right;\">\n",
       "      <th></th>\n",
       "      <th>TYP_CD_DES</th>\n",
       "      <th>STN_NAM_DE</th>\n",
       "      <th>geometry</th>\n",
       "      <th>latitude</th>\n",
       "      <th>longitude</th>\n",
       "    </tr>\n",
       "  </thead>\n",
       "  <tbody>\n",
       "    <tr>\n",
       "      <th>0</th>\n",
       "      <td>MRT</td>\n",
       "      <td>ESPLANADE MRT STATION</td>\n",
       "      <td>POLYGON ((30566.074 30621.214, 30569.418 30619...</td>\n",
       "      <td>1.293260</td>\n",
       "      <td>103.855612</td>\n",
       "    </tr>\n",
       "    <tr>\n",
       "      <th>1</th>\n",
       "      <td>MRT</td>\n",
       "      <td>PAYA LEBAR MRT STATION</td>\n",
       "      <td>POLYGON ((34495.600 33384.436, 34529.354 33388...</td>\n",
       "      <td>1.317369</td>\n",
       "      <td>103.892272</td>\n",
       "    </tr>\n",
       "    <tr>\n",
       "      <th>2</th>\n",
       "      <td>MRT</td>\n",
       "      <td>DHOBY GHAUT MRT STATION</td>\n",
       "      <td>POLYGON ((29293.514 31312.528, 29360.102 31290...</td>\n",
       "      <td>1.299044</td>\n",
       "      <td>103.845833</td>\n",
       "    </tr>\n",
       "    <tr>\n",
       "      <th>3</th>\n",
       "      <td>MRT</td>\n",
       "      <td>DAKOTA MRT STATION</td>\n",
       "      <td>POLYGON ((34055.075 32290.624, 34171.519 32310...</td>\n",
       "      <td>1.308375</td>\n",
       "      <td>103.888668</td>\n",
       "    </tr>\n",
       "    <tr>\n",
       "      <th>4</th>\n",
       "      <td>MRT</td>\n",
       "      <td>LAVENDER MRT STATION</td>\n",
       "      <td>POLYGON ((31236.498 32085.764, 31234.137 32088...</td>\n",
       "      <td>1.307372</td>\n",
       "      <td>103.862838</td>\n",
       "    </tr>\n",
       "  </tbody>\n",
       "</table>\n",
       "</div>"
      ],
      "text/plain": [
       "  TYP_CD_DES               STN_NAM_DE  \\\n",
       "0        MRT    ESPLANADE MRT STATION   \n",
       "1        MRT   PAYA LEBAR MRT STATION   \n",
       "2        MRT  DHOBY GHAUT MRT STATION   \n",
       "3        MRT       DAKOTA MRT STATION   \n",
       "4        MRT     LAVENDER MRT STATION   \n",
       "\n",
       "                                            geometry  latitude   longitude  \n",
       "0  POLYGON ((30566.074 30621.214, 30569.418 30619...  1.293260  103.855612  \n",
       "1  POLYGON ((34495.600 33384.436, 34529.354 33388...  1.317369  103.892272  \n",
       "2  POLYGON ((29293.514 31312.528, 29360.102 31290...  1.299044  103.845833  \n",
       "3  POLYGON ((34055.075 32290.624, 34171.519 32310...  1.308375  103.888668  \n",
       "4  POLYGON ((31236.498 32085.764, 31234.137 32088...  1.307372  103.862838  "
      ]
     },
     "execution_count": 17,
     "metadata": {},
     "output_type": "execute_result"
    }
   ],
   "source": [
    "import geopandas as gpd\n",
    "from pyproj import Proj, transform\n",
    "\n",
    "# Read the shapefile\n",
    "shape = gpd.read_file(\"../data/TrainStation_Feb2023/RapidTransitSystemStation.shp\")\n",
    "\n",
    "# Calculate centroid coordinates\n",
    "shape['centroid_y'] = shape.geometry.centroid.y\n",
    "shape['centroid_x'] = shape.geometry.centroid.x\n",
    "\n",
    "# Define the SVY21 projection (EPSG:3414)\n",
    "svy21 = Proj(init='EPSG:3414')\n",
    "\n",
    "# Define the WGS84 projection (EPSG:4326)\n",
    "wgs84 = Proj(init='EPSG:4326')\n",
    "\n",
    "# Define the SVY21 coordinates (example values)\n",
    "svy21_x = shape['centroid_x']\n",
    "svy21_y = shape['centroid_y']\n",
    "\n",
    "# Perform the coordinate transformation\n",
    "lon, lat = transform(svy21, wgs84, svy21_x, svy21_y)\n",
    "\n",
    "# Print the latitude and longitude coordinates\n",
    "location = pd.DataFrame({'latitude': lat, 'longitude': lon})\n",
    "trainstations = pd.concat([shape, location], axis=1)\n",
    "\n",
    "trainstations = trainstations.drop(columns=['TYP_CD', 'STN_NAM', 'centroid_y', 'centroid_x'])\n",
    "trainstations.head()"
   ]
  },
  {
   "cell_type": "markdown",
   "metadata": {},
   "source": [
    "### Travel Time\n",
    "We manually collected travel time for public and private transport from the center coordinates of each planning area (origins) to 3 destinations (CBD, ION, SGH) from Google Maps, using the same day/time. \n",
    "- Public Transport Travel Times: `../data/public_travel_time.csv`\n",
    "- Private Transport Travel Times: `../data/private_travel_time.csv`\n",
    "\n",
    "From our exploratory data analysis using Passenger Volume by Bus Stops, we find that the Highest Average Volume is during a weekday at 7-8am and 5-6pm likely due to people commuting to and fro work. Hence, we chose a Monday (weekday) 5pm to better represent public transport commuters' demand. "
   ]
  },
  {
   "attachments": {
    "image.png": {
     "image/png": "[encoded data removed]"
    }
   },
   "cell_type": "markdown",
   "metadata": {},
   "source": [
    "![image.png](attachment:image.png)"
   ]
  },
  {
   "cell_type": "markdown",
   "metadata": {},
   "source": [
    "### Resident Population in 2023\n",
    "We retrieved resident population data from [SingStat](https://www.singstat.gov.sg/find-data/search-by-theme/population/population-and-population-structure/latest-data) since population density in an area can be a key factor for commuters in deciding whether to move to an area. \n",
    "\n",
    "To make the data more interpretable for users in the dashboard, we cleaned the data using the below steps: \n",
    "1. Categorise the population into 3 age groups: 0-20 years, 21-64 years and 65 years and above.\n",
    "2. Summarise population based on age groups and region using `GROUPBY`.\n",
    "\n",
    "The cleaned data can be found in: `../data/pop_by_agegroup.csv`"
   ]
  },
  {
   "cell_type": "code",
   "execution_count": 3,
   "metadata": {},
   "outputs": [
    {
     "data": {
      "text/html": [
       "<div>\n",
       "<style scoped>\n",
       "    .dataframe tbody tr th:only-of-type {\n",
       "        vertical-align: middle;\n",
       "    }\n",
       "\n",
       "    .dataframe tbody tr th {\n",
       "        vertical-align: top;\n",
       "    }\n",
       "\n",
       "    .dataframe thead th {\n",
       "        text-align: right;\n",
       "    }\n",
       "</style>\n",
       "<table border=\"1\" class=\"dataframe\">\n",
       "  <thead>\n",
       "    <tr style=\"text-align: right;\">\n",
       "      <th>AgeGroup</th>\n",
       "      <th>PA</th>\n",
       "      <th>0-20</th>\n",
       "      <th>21-64</th>\n",
       "      <th>65+</th>\n",
       "      <th>total_pop</th>\n",
       "    </tr>\n",
       "  </thead>\n",
       "  <tbody>\n",
       "    <tr>\n",
       "      <th>0</th>\n",
       "      <td>ANG MO KIO</td>\n",
       "      <td>26530</td>\n",
       "      <td>96050</td>\n",
       "      <td>39330</td>\n",
       "      <td>161910</td>\n",
       "    </tr>\n",
       "    <tr>\n",
       "      <th>1</th>\n",
       "      <td>BEDOK</td>\n",
       "      <td>50240</td>\n",
       "      <td>169290</td>\n",
       "      <td>60700</td>\n",
       "      <td>280230</td>\n",
       "    </tr>\n",
       "    <tr>\n",
       "      <th>2</th>\n",
       "      <td>BISHAN</td>\n",
       "      <td>16390</td>\n",
       "      <td>53440</td>\n",
       "      <td>18510</td>\n",
       "      <td>88340</td>\n",
       "    </tr>\n",
       "    <tr>\n",
       "      <th>3</th>\n",
       "      <td>BOON LAY</td>\n",
       "      <td>0</td>\n",
       "      <td>0</td>\n",
       "      <td>0</td>\n",
       "      <td>0</td>\n",
       "    </tr>\n",
       "    <tr>\n",
       "      <th>4</th>\n",
       "      <td>BUKIT BATOK</td>\n",
       "      <td>34930</td>\n",
       "      <td>106990</td>\n",
       "      <td>27440</td>\n",
       "      <td>169360</td>\n",
       "    </tr>\n",
       "  </tbody>\n",
       "</table>\n",
       "</div>"
      ],
      "text/plain": [
       "AgeGroup           PA   0-20   21-64    65+  total_pop\n",
       "0          ANG MO KIO  26530   96050  39330     161910\n",
       "1               BEDOK  50240  169290  60700     280230\n",
       "2              BISHAN  16390   53440  18510      88340\n",
       "3            BOON LAY      0       0      0          0\n",
       "4         BUKIT BATOK  34930  106990  27440     169360"
      ]
     },
     "execution_count": 3,
     "metadata": {},
     "output_type": "execute_result"
    }
   ],
   "source": [
    "pop_data = pd.read_csv('../data/respopagesex2023.csv')\n",
    "pop_data['Age'] = pop_data['Age'].str[:2].astype(int)\n",
    "pop_data['PA'] = pop_data['PA'].str.upper()\n",
    "\n",
    "# Define age group thresholds\n",
    "age_groups = {\n",
    "    '0-20': (0, 20),\n",
    "    '21-64': (21, 64),\n",
    "    '65+': (65, float('inf'))\n",
    "}\n",
    "\n",
    "# Function to categorize age into groups\n",
    "def categorize_age(age):\n",
    "    for group, (lower, upper) in age_groups.items():\n",
    "        if lower <= age <= upper:\n",
    "            return group\n",
    "\n",
    "# Apply age group categorization\n",
    "pop_data['AgeGroup'] = pop_data['Age'].apply(categorize_age)\n",
    "\n",
    "# Group by PA, and AgeGroup, summing up the population\n",
    "pop_by_agegroup = pop_data.groupby(['PA', 'AgeGroup'])['Pop'].sum().reset_index()\n",
    "pop_by_agegroup = pop_by_agegroup.pivot(index='PA', columns='AgeGroup', values='Pop').reset_index()\n",
    "pop_by_agegroup['total_pop'] = pop_by_agegroup['0-20'] + pop_by_agegroup['21-64'] + pop_by_agegroup['65+']\n",
    "pop_by_agegroup.head()"
   ]
  },
  {
   "cell_type": "markdown",
   "metadata": {},
   "source": [
    "## Construction of Connectivity Scores\n",
    "\n",
    "Here we consider two aspects of connectivity of a residential area, availability (of public transport services) and accessibility (by taking public services). Below are formulaic represeations of the two scores."
   ]
  },
  {
   "cell_type": "markdown",
   "metadata": {},
   "source": [
    "### Availability Score"
   ]
  },
  {
   "cell_type": "markdown",
   "metadata": {},
   "source": [
    "$$\n",
    "\\text{avail\\_score} = w_1 \\times \\text{num\\_busstops\\_score} + w_2 \\times \\text{num\\_trainstations\\_score} + w_3 \\times \\text{num\\_busservices\\_score} + w_4 \\times \\text{avg\\_bus\\_freq\\_score}\n",
    "$$\n",
    "$$ \\text{where } w_i \\text{ are weights to be assigned by the user in the interface and } {\\sum_{i=1}^{4} w_i} = 1\n",
    "$$"
   ]
  },
  {
   "cell_type": "markdown",
   "metadata": {},
   "source": [
    "### Accessibility Score"
   ]
  },
  {
   "cell_type": "markdown",
   "metadata": {},
   "source": [
    "$$\n",
    "\\text{access\\_score} = w_1 \\times \\text{cbd\\_diff\\_score} + w_2 \\times \\text{ion\\_diff\\_score} + w_3 \\times \\text{sgh\\_diff\\_score} \n",
    "$$\n",
    "$$ \\text{where } w_i \\text{ are weights to be assigned by the user in the interface and } {\\sum_{i=1}^{3} w_i} = 1\n",
    "$$"
   ]
  },
  {
   "cell_type": "markdown",
   "metadata": {},
   "source": [
    "We use a weighted average of all the metrics in each category, where the coefficients can be customised by the commuters so long as they add up to 1. In this way, the final scores are dynamic and more representative of the user’s personal preferences. \n",
    "\n",
    "For example, a user who only cares about going to the CBD may assign a weight of 1 to `cbd_diff_score` and 0 for the rest when looking at accessibility. "
   ]
  },
  {
   "cell_type": "markdown",
   "metadata": {},
   "source": [
    "### Availability Score\n",
    "The final scores can be found here: `../data/avail_with_score.csv`."
   ]
  },
  {
   "cell_type": "markdown",
   "metadata": {},
   "source": [
    "#### Number of Unique Bus Stops per Area, Number of Unique Train Stations per Area\n",
    "For these 2 metrics defined in our Availability Score: \n",
    "- Number of train stations in the region\n",
    "- Number of bus stops in the region\n",
    "\n",
    "we summarised the data retrieved from LTA DataMall for each region using a ```GROUPBY``` clause. "
   ]
  },
  {
   "cell_type": "code",
   "execution_count": null,
   "metadata": {},
   "outputs": [],
   "source": [
    "num_busstops = busstops.groupby('planning_area').size().reset_index(name='num_busstops')\n",
    "num_trainstations = trainstations.groupby('planning_area').size().reset_index(name='num_trainstations')"
   ]
  },
  {
   "cell_type": "markdown",
   "metadata": {},
   "source": [
    "#### Number of Unique Bus Services per Area\n",
    "For this metric:\n",
    "- Number of bus routes (services) in the region\n",
    "\n",
    "we performed a join with the `busstops` data to map the planning areas to each bus service and extracted the unique records before summarising the data for each region using the ```GROUPBY``` clause. "
   ]
  },
  {
   "cell_type": "code",
   "execution_count": 13,
   "metadata": {},
   "outputs": [],
   "source": [
    "busroutes_planning_area = busroutes.merge(busstops, left_on='BusStopCode', right_on='BusStopCode', how='left')\n",
    "busroutes_planningarea = busroutes_planning_area[['ServiceNo', 'planning_area']].drop_duplicates()\n",
    "num_busservices = busroutes_planningarea.groupby('planning_area').size().reset_index(name='num_busservices')"
   ]
  },
  {
   "cell_type": "markdown",
   "metadata": {},
   "source": [
    "#### Average Frequency of Bus Services per Area\n",
    "For this metric:\n",
    "- Average Frequency of Bus Services in each region\n",
    "\n",
    "we performed another join with the `busroutes_planning_area` data to map the bus frequencies of each service to their respective planning areas.\n",
    "\n",
    "Next, we further cleaned the data of the frequency columns before calculating the average of the frequencies with a ```GROUPBY``` clause as well. "
   ]
  },
  {
   "cell_type": "code",
   "execution_count": null,
   "metadata": {},
   "outputs": [],
   "source": [
    "busservices_planning_area = busservices.merge(busroutes_planning_area, left_on='ServiceNo', right_on='ServiceNo', how='left')\n",
    "busservices_planningarea = busservices_planning_area.iloc[:, [0,2,6,7,8,9,26]].drop_duplicates()\n",
    "\n",
    "# separate min and max freq\n",
    "columns = ['AM_Peak_Freq', 'AM_Offpeak_Freq', 'PM_Peak_Freq', 'PM_Offpeak_Freq']\n",
    "new_columns = ['AM_peak_freq', 'AM_offpeak_freq', 'PM_peak_freq', 'PM_offpeak_freq']\n",
    "\n",
    "for col, new_col in zip(columns, new_columns):\n",
    "    busservices_planningarea[[f'{new_col}_min', f'{new_col}_max']] = busservices_planningarea[col].str.split('-', expand=True)\n",
    "\n",
    "# convert freq to numeric values\n",
    "for i in range(7, 15):\n",
    "    column_index = i\n",
    "    busservices_planningarea.iloc[:, i] = pd.to_numeric(busservices_planningarea.iloc[:, i], errors='coerce')\n",
    "\n",
    "# drop original freq columns\n",
    "busservices_planningarea = busservices_planningarea.drop(columns=['AM_Peak_Freq', 'AM_Offpeak_Freq', \\\n",
    "                                                                  'PM_Peak_Freq', 'PM_Offpeak_Freq'])\n",
    "\n",
    "busservices_freq = busservices_planningarea.copy()\n",
    "\n",
    "# calculate average frequency\n",
    "freq_columns = ['AM_peak_freq_min', 'AM_peak_freq_max', 'AM_offpeak_freq_min', 'AM_offpeak_freq_max', \\\n",
    "                'PM_peak_freq_min', 'PM_peak_freq_max', 'PM_offpeak_freq_min', 'PM_offpeak_freq_max']\n",
    "busservices_freq['avg_bus_freq'] = busservices_freq[freq_columns].mean(axis=1)\n",
    "\n",
    "avg_freq = busservices_freq.groupby('planning_area')['avg_bus_freq'].mean().reset_index(name='avg_bus_freq')\n",
    "avg_freq['avg_bus_freq'] = avg_freq['avg_bus_freq'].astype(float).round()"
   ]
  },
  {
   "cell_type": "markdown",
   "metadata": {},
   "source": [
    "### Accessibility Score\n",
    "The final scores can be found here: `../data/access_score.csv`."
   ]
  },
  {
   "cell_type": "markdown",
   "metadata": {},
   "source": [
    "#### Difference in Travel Time (min) between taking Public and Private Transport\n",
    "The difference in travel time to each destination is defined by Public Transport Travel Time (`ett`) - Private Transport Travel Time (`ett ave`). "
   ]
  },
  {
   "cell_type": "code",
   "execution_count": 4,
   "metadata": {},
   "outputs": [],
   "source": [
    "transitTime = pd.merge(pubTransitTime, priTransitTime, on=['planning_area', 'destination'], how='left')\n",
    "transitTime['ett_diff'] = transitTime['ett'] - transitTime['ett ave']\n",
    "\n",
    "accessibility = transitTime.pivot(index='planning_area', columns='destination', values='ett_diff').reset_index()\n",
    "accessibility.columns = ['planning_area', 'cbd_diff', 'ion_diff', 'sgh_diff']"
   ]
  },
  {
   "cell_type": "markdown",
   "metadata": {},
   "source": [
    "### Data Normalisation\n",
    "To construct the final availability and accessibility scores, we performed Min-Max Scaling to scale all metrics into [0,1] to make them comparable. Noting that some metrics like **Average Bus Frequency** are negatively correlated with the connectivity score (e.g. a lower Average Bus Frequency means higher availability), we reversed the direction of these metrics before scaling to ensure that all metrics are positively correlated with the final score. \n",
    "\n",
    "Below is an example using `availability` to construct **Availability Score**:"
   ]
  },
  {
   "cell_type": "code",
   "execution_count": 12,
   "metadata": {},
   "outputs": [
    {
     "data": {
      "text/html": [
       "<div>\n",
       "<style scoped>\n",
       "    .dataframe tbody tr th:only-of-type {\n",
       "        vertical-align: middle;\n",
       "    }\n",
       "\n",
       "    .dataframe tbody tr th {\n",
       "        vertical-align: top;\n",
       "    }\n",
       "\n",
       "    .dataframe thead th {\n",
       "        text-align: right;\n",
       "    }\n",
       "</style>\n",
       "<table border=\"1\" class=\"dataframe\">\n",
       "  <thead>\n",
       "    <tr style=\"text-align: right;\">\n",
       "      <th></th>\n",
       "      <th>planning_area</th>\n",
       "      <th>num_busstops</th>\n",
       "      <th>num_trainstations</th>\n",
       "      <th>num_busservices</th>\n",
       "      <th>avg_bus_freq</th>\n",
       "      <th>num_busstops_score</th>\n",
       "      <th>num_trainstations_score</th>\n",
       "      <th>num_busservices_score</th>\n",
       "      <th>avg_bus_freq_score</th>\n",
       "    </tr>\n",
       "  </thead>\n",
       "  <tbody>\n",
       "    <tr>\n",
       "      <th>0</th>\n",
       "      <td>BEDOK</td>\n",
       "      <td>286.0</td>\n",
       "      <td>6.0</td>\n",
       "      <td>93.0</td>\n",
       "      <td>14.0</td>\n",
       "      <td>1.000000</td>\n",
       "      <td>0.294118</td>\n",
       "      <td>0.978723</td>\n",
       "      <td>0.882353</td>\n",
       "    </tr>\n",
       "    <tr>\n",
       "      <th>1</th>\n",
       "      <td>BUKIT TIMAH</td>\n",
       "      <td>112.0</td>\n",
       "      <td>6.0</td>\n",
       "      <td>37.0</td>\n",
       "      <td>13.0</td>\n",
       "      <td>0.389474</td>\n",
       "      <td>0.294118</td>\n",
       "      <td>0.382979</td>\n",
       "      <td>0.941176</td>\n",
       "    </tr>\n",
       "    <tr>\n",
       "      <th>2</th>\n",
       "      <td>BUKIT BATOK</td>\n",
       "      <td>162.0</td>\n",
       "      <td>3.0</td>\n",
       "      <td>56.0</td>\n",
       "      <td>13.0</td>\n",
       "      <td>0.564912</td>\n",
       "      <td>0.117647</td>\n",
       "      <td>0.585106</td>\n",
       "      <td>0.941176</td>\n",
       "    </tr>\n",
       "    <tr>\n",
       "      <th>3</th>\n",
       "      <td>BUKIT MERAH</td>\n",
       "      <td>176.0</td>\n",
       "      <td>8.0</td>\n",
       "      <td>66.0</td>\n",
       "      <td>14.0</td>\n",
       "      <td>0.614035</td>\n",
       "      <td>0.411765</td>\n",
       "      <td>0.691489</td>\n",
       "      <td>0.882353</td>\n",
       "    </tr>\n",
       "    <tr>\n",
       "      <th>4</th>\n",
       "      <td>CENTRAL WATER CATCHMENT</td>\n",
       "      <td>20.0</td>\n",
       "      <td>NaN</td>\n",
       "      <td>20.0</td>\n",
       "      <td>14.0</td>\n",
       "      <td>0.066667</td>\n",
       "      <td>NaN</td>\n",
       "      <td>0.202128</td>\n",
       "      <td>0.882353</td>\n",
       "    </tr>\n",
       "  </tbody>\n",
       "</table>\n",
       "</div>"
      ],
      "text/plain": [
       "             planning_area  num_busstops  num_trainstations  num_busservices  \\\n",
       "0                    BEDOK         286.0                6.0             93.0   \n",
       "1              BUKIT TIMAH         112.0                6.0             37.0   \n",
       "2              BUKIT BATOK         162.0                3.0             56.0   \n",
       "3              BUKIT MERAH         176.0                8.0             66.0   \n",
       "4  CENTRAL WATER CATCHMENT          20.0                NaN             20.0   \n",
       "\n",
       "   avg_bus_freq  num_busstops_score  num_trainstations_score  \\\n",
       "0          14.0            1.000000                 0.294118   \n",
       "1          13.0            0.389474                 0.294118   \n",
       "2          13.0            0.564912                 0.117647   \n",
       "3          14.0            0.614035                 0.411765   \n",
       "4          14.0            0.066667                      NaN   \n",
       "\n",
       "   num_busservices_score  avg_bus_freq_score  \n",
       "0               0.978723            0.882353  \n",
       "1               0.382979            0.941176  \n",
       "2               0.585106            0.941176  \n",
       "3               0.691489            0.882353  \n",
       "4               0.202128            0.882353  "
      ]
     },
     "execution_count": 12,
     "metadata": {},
     "output_type": "execute_result"
    }
   ],
   "source": [
    "from sklearn.preprocessing import MinMaxScaler\n",
    "min_max_scaler = MinMaxScaler()\n",
    "\n",
    "# Apply Min-Max scaling to normalize values to positive numbers only\n",
    "avail_values = availability.drop(columns='planning_area')  # Make a copy to avoid modifying the original DataFrame\n",
    "\n",
    "# Reverse direction of Freq columns\n",
    "avail_values['avg_bus_freq'] = - avail_values['avg_bus_freq']\n",
    "\n",
    "# Shift values by their minimum value to make them positive\n",
    "avail_values = avail_values - avail_values.min()\n",
    "\n",
    "# Apply Min-Max scaling to scale values to the range [0, 1]\n",
    "avail_values = pd.DataFrame(min_max_scaler.fit_transform(avail_values), columns=avail_values.columns)\n",
    "\n",
    "# Add the avail_values columns back to the DataFrame\n",
    "avail_values = avail_values.add_suffix('_score')\n",
    "avail_with_score = pd.concat([availability, avail_values], axis=1)\n",
    "avail_with_score.head()"
   ]
  },
  {
   "cell_type": "markdown",
   "metadata": {},
   "source": [
    "## How to use the scores\n",
    "To use the constructed scores, simply load the files as shown below."
   ]
  },
  {
   "cell_type": "code",
   "execution_count": null,
   "metadata": {},
   "outputs": [],
   "source": [
    "import pandas as pd\n",
    "\n",
    "avail_with_score = pd.read_csv('../data/avail_with_score.csv')\n",
    "access_with_score = pd.read_csv('../data/access_score.csv')"
   ]
  },
  {
   "cell_type": "markdown",
   "metadata": {},
   "source": [
    "#### Example Use Case: Top 10 Regions with Highest Overall Connectivity\n",
    "We can combine both scores to analyse the overall connectivity of regions by taking a simple average of all metric scores."
   ]
  },
  {
   "cell_type": "code",
   "execution_count": null,
   "metadata": {},
   "outputs": [],
   "source": [
    "# merge both availability and accessibility scores\n",
    "total_score = pd.merge(avail_with_score, access_with_score, on='planning_area', how='left', suffixes=('_avail', '_access'))\n",
    "total_score['total_score'] = (total_score['total_score_avail'] + total_score['total_score_access']) / 2\n",
    "total_score = total_score.sort_values(by='total_score', ascending=False)\n",
    "total_score[['planning_area', 'total_score_avail', 'total_score_access', 'total_score']].head(10)"
   ]
  },
  {
   "attachments": {
    "image.png": {
     "image/png": "[encoded data removed]"
    }
   },
   "cell_type": "markdown",
   "metadata": {},
   "source": [
    "We plot the Top 10 Regions with Highest Overall Connectivity below.\n",
    "\n",
    "![image.png](attachment:image.png)"
   ]
  }
 ],
 "metadata": {
  "kernelspec": {
   "display_name": ".venv",
   "language": "python",
   "name": "python3"
  },
  "language_info": {
   "codemirror_mode": {
    "name": "ipython",
    "version": 3
   },
   "file_extension": ".py",
   "mimetype": "text/x-python",
   "name": "python",
   "nbconvert_exporter": "python",
   "pygments_lexer": "ipython3",
   "version": "3.12.0"
  }
 },
 "nbformat": 4,
 "nbformat_minor": 2
}
